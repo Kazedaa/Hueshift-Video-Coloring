{
 "cells": [
  {
   "cell_type": "code",
   "execution_count": null,
   "metadata": {},
   "outputs": [],
   "source": [
    "import yaml\n",
    "from PIL import Image\n",
    "\n",
    "import torch\n",
    "from torch.utils.data import DataLoader\n",
    "from torch.optim import Adam\n",
    "import torchvision.transforms as transforms\n",
    "\n",
    "from models.vae import VAE\n",
    "from models.unet import Unet\n",
    "from utils.dataset import Dataset\n",
    "from utils.train_ddpm import train\n",
    "from utils.scheduler import LinearNoiseSchedule\n",
    "\n",
    "\n",
    "DEVICE = \"cuda\" if torch.cuda.is_available() else \"cpu\"\n",
    "DDPM_CONFIG = \"configs/ddpm.yaml\"\n",
    "VAE_CONFIG = \"configs/vae.yaml\"\n",
    "VAE_CKPT = \"\""
   ]
  },
  {
   "cell_type": "code",
   "execution_count": 2,
   "metadata": {},
   "outputs": [],
   "source": [
    "# Read the config file #\n",
    "with open(DDPM_CONFIG, 'r') as file:\n",
    "    try:\n",
    "        config = yaml.safe_load(file)\n",
    "    except yaml.YAMLError as exc:\n",
    "        print(exc)\n",
    "ddpm_model_config = config['model_config']\n",
    "ddpm_dataset_config = config['dataset_config']\n",
    "ddpm_training_config = config['training_config']\n",
    "\n",
    "with open(VAE_CONFIG, 'r') as file:\n",
    "    try:\n",
    "        config = yaml.safe_load(file)\n",
    "    except yaml.YAMLError as exc:\n",
    "        print(exc)\n",
    "vae_model_config = config['model_config']"
   ]
  },
  {
   "cell_type": "code",
   "execution_count": 3,
   "metadata": {},
   "outputs": [],
   "source": [
    "scheduler = LinearNoiseSchedule(T=ddpm_training_config['NUM_TIMESTEPS'])"
   ]
  },
  {
   "cell_type": "code",
   "execution_count": 4,
   "metadata": {},
   "outputs": [],
   "source": [
    "transform = [\n",
    "    transforms.ToTensor(),\n",
    "    transforms.Resize((ddpm_dataset_config['IMG_SIZE'], ddpm_dataset_config['IMG_SIZE']), Image.BICUBIC),\n",
    "    # transforms.Normalize((0.5, 0.5, 0.5), (0.5, 0.5, 0.5)),\n",
    "]\n",
    "\n",
    "\n",
    "data_loader = DataLoader(\n",
    "    Dataset(ddpm_dataset_config['ROOT'],transform),\n",
    "    batch_size= ddpm_dataset_config['BATCH_SIZE'],\n",
    "    shuffle = True,\n",
    "    num_workers = 2\n",
    ")"
   ]
  },
  {
   "cell_type": "code",
   "execution_count": null,
   "metadata": {},
   "outputs": [],
   "source": [
    "model = Unet(in_channels = 3,out_channels = 2, model_config = ddpm_model_config).to(DEVICE)"
   ]
  },
  {
   "cell_type": "code",
   "execution_count": 6,
   "metadata": {},
   "outputs": [],
   "source": [
    "vae = VAE(model_config=vae_model_config).to(DEVICE)\n",
    "vae.eval()\n",
    "# vae.load_state_dict(torch.load(VAE_CKPT))\n",
    "for param in vae.parameters():\n",
    "    param.requires_grad = False"
   ]
  },
  {
   "cell_type": "code",
   "execution_count": null,
   "metadata": {},
   "outputs": [],
   "source": [
    "optimizer = Adam(model.parameters(),lr=1E-5)\n",
    "criterion = torch.nn.MSELoss()"
   ]
  },
  {
   "cell_type": "code",
   "execution_count": null,
   "metadata": {},
   "outputs": [],
   "source": [
    "train(\n",
    "    num_epochs = ddpm_training_config[\"NUM_EPOCHS\"],\n",
    "    data_loader = data_loader,\n",
    "    optimizer = optimizer,\n",
    "    T = ddpm_training_config[\"NUM_TIMESTEPS\"],\n",
    "    scheduler = scheduler\n",
    "    model = model,\n",
    "    criterion = criterion,\n",
    ")"
   ]
  }
 ],
 "metadata": {
  "kernelspec": {
   "display_name": "hue",
   "language": "python",
   "name": "python3"
  },
  "language_info": {
   "codemirror_mode": {
    "name": "ipython",
    "version": 3
   },
   "file_extension": ".py",
   "mimetype": "text/x-python",
   "name": "python",
   "nbconvert_exporter": "python",
   "pygments_lexer": "ipython3",
   "version": "3.12.8"
  }
 },
 "nbformat": 4,
 "nbformat_minor": 2
}
