{
 "cells": [
  {
   "cell_type": "code",
   "execution_count": 2,
   "metadata": {},
   "outputs": [],
   "source": [
    "import yaml\n",
    "import os\n",
    "import torch\n",
    "\n",
    "from models.unet import Unet\n",
    "from models.vae import VAE\n",
    "from utils.scheduler import LinearNoiseSchedule\n",
    "from utils.sample_ddpm import sample\n",
    "\n",
    "DDPM_CONFIG = \"configs/ddpm.yaml\"\n",
    "VAE_CONFIG = \"configs/vae.yaml\"\n",
    "DEVICE = \"cuda\" if torch.cuda.is_available() else \"cpu\"\n",
    "\n",
    "DDPM_PATH = \"/home/sciencerz/Projects/Hueshift/results_UCF/checkpoints/DDPM/ddpm.pth\"\n",
    "VAE_PATH = \"\""
   ]
  },
  {
   "cell_type": "code",
   "execution_count": 3,
   "metadata": {},
   "outputs": [],
   "source": [
    "with open(DDPM_CONFIG, 'r') as file:\n",
    "    try:\n",
    "        config = yaml.safe_load(file)\n",
    "    except yaml.YAMLError as exc:\n",
    "        print(exc)\n",
    "ddpm_model_config = config['model_config']\n",
    "ddpm_dataset_config = config['dataset_config']\n",
    "ddpm_training_config = config['training_config']\n",
    "ddpm_inference_config = config['inference_config']\n",
    "\n",
    "with open(VAE_CONFIG, 'r') as file:\n",
    "    try:\n",
    "        config = yaml.safe_load(file)\n",
    "    except yaml.YAMLError as exc:\n",
    "        print(exc)\n",
    "vae_model_config = config['model_config']"
   ]
  },
  {
   "cell_type": "code",
   "execution_count": 6,
   "metadata": {},
   "outputs": [
    {
     "ename": "TypeError",
     "evalue": "Unet.__init__() missing 1 required positional argument: 'out_channels'",
     "output_type": "error",
     "traceback": [
      "\u001b[0;31m---------------------------------------------------------------------------\u001b[0m",
      "\u001b[0;31mTypeError\u001b[0m                                 Traceback (most recent call last)",
      "Cell \u001b[0;32mIn[6], line 4\u001b[0m\n\u001b[1;32m      1\u001b[0m \u001b[38;5;66;03m# Create the noise scheduler\u001b[39;00m\n\u001b[1;32m      2\u001b[0m scheduler \u001b[38;5;241m=\u001b[39m LinearNoiseSchedule(T\u001b[38;5;241m=\u001b[39mddpm_training_config[\u001b[38;5;124m'\u001b[39m\u001b[38;5;124mNUM_TIMESTEPS\u001b[39m\u001b[38;5;124m'\u001b[39m])\n\u001b[0;32m----> 4\u001b[0m model \u001b[38;5;241m=\u001b[39m \u001b[43mUnet\u001b[49m\u001b[43m(\u001b[49m\u001b[43min_channels\u001b[49m\u001b[43m \u001b[49m\u001b[38;5;241;43m=\u001b[39;49m\u001b[43m \u001b[49m\u001b[43mvae_model_config\u001b[49m\u001b[43m[\u001b[49m\u001b[38;5;124;43m'\u001b[39;49m\u001b[38;5;124;43mZ_CHANNELS\u001b[39;49m\u001b[38;5;124;43m'\u001b[39;49m\u001b[43m]\u001b[49m\u001b[43m,\u001b[49m\u001b[43m \u001b[49m\u001b[43mmodel_config\u001b[49m\u001b[43m \u001b[49m\u001b[38;5;241;43m=\u001b[39;49m\u001b[43m \u001b[49m\u001b[43mddpm_model_config\u001b[49m\u001b[43m)\u001b[49m\u001b[38;5;241m.\u001b[39mto(DEVICE)\n\u001b[1;32m      5\u001b[0m model\u001b[38;5;241m.\u001b[39meval()\n\u001b[1;32m      7\u001b[0m \u001b[38;5;28;01mif\u001b[39;00m os\u001b[38;5;241m.\u001b[39mpath\u001b[38;5;241m.\u001b[39mexists(): \u001b[38;5;66;03m#path of the pretrained DDPM goes here\u001b[39;00m\n",
      "\u001b[0;31mTypeError\u001b[0m: Unet.__init__() missing 1 required positional argument: 'out_channels'"
     ]
    }
   ],
   "source": [
    "# Create the noise scheduler\n",
    "scheduler = LinearNoiseSchedule(T=ddpm_training_config['NUM_TIMESTEPS'])\n",
    "\n",
    "model = Unet(in_channels = vae_model_config['Z_CHANNELS'], model_config = ddpm_model_config).to(DEVICE)\n",
    "model.eval()\n",
    "\n",
    "if os.path.exists(): #path of the pretrained DDPM goes here\n",
    "    print('Loaded unet checkpoint')\n",
    "    model.load_state_dict(torch.load(DDPM_PATH,map_location=DEVICE))\n",
    "\n",
    "# Create output directories\n",
    "if not os.path.exists(\"out\"):\n",
    "    os.mkdir(\"out\")\n",
    "\n",
    "# vae = VAE(model_config=vae_model_config).to(DEVICE)\n",
    "# vae.eval()\n",
    "\n",
    "# # Load vae if found\n",
    "# if os.path.exists(): #path of pretrained VAE\n",
    "#     print('Loaded vae checkpoint')\n",
    "#     vae.load_state_dict(torch.load(VAE_PATH,map_location=DEVICE), strict=True)"
   ]
  },
  {
   "cell_type": "code",
   "execution_count": null,
   "metadata": {},
   "outputs": [],
   "source": [
    "with torch.no_grad():\n",
    "    sample(model, vae, scheduler, ddpm_inference_config['NUM_SAMPLES'], ddpm_inference_config['NROWS'])"
   ]
  }
 ],
 "metadata": {
  "kernelspec": {
   "display_name": "hue",
   "language": "python",
   "name": "python3"
  },
  "language_info": {
   "codemirror_mode": {
    "name": "ipython",
    "version": 3
   },
   "file_extension": ".py",
   "mimetype": "text/x-python",
   "name": "python",
   "nbconvert_exporter": "python",
   "pygments_lexer": "ipython3",
   "version": "3.12.8"
  }
 },
 "nbformat": 4,
 "nbformat_minor": 2
}
